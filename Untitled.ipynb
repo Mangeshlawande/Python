{
 "cells": [
  {
   "cell_type": "code",
   "execution_count": 8,
   "id": "094fdb72",
   "metadata": {},
   "outputs": [
    {
     "name": "stdout",
     "output_type": "stream",
     "text": [
      "<class 'set'>\n",
      "{1, 2, 3, 4, 5}\n",
      "The set b is : <class 'set'>\n",
      "{56, 32, (2, 6, 4)}\n",
      "3\n",
      "{56, (2, 6, 4)}\n"
     ]
    }
   ],
   "source": [
    "# dictionary ans sets\n",
    "# set is a collection of non repeatitive items\n",
    "'''\n",
    "sets in python \n",
    "empty sets can be created using below syntax\n",
    "s1 ={1,};\n",
    "s1 ={} ;IMP : will create empty dict not an empty set\n",
    "\n",
    "we cant add list and Dictionary into set  coz list is not hashable(change possible)\n",
    "\n",
    "we can add tuple in the set because  tuple cannot be changed ;\n",
    "    set are unordered\n",
    "    set are unindexed\n",
    "    no way to change items in the set \n",
    "    cant contain duplicate values \n",
    "    \n",
    "    operation on sets :\n",
    "    1. len(b)\n",
    "    2. b.remove(5);\n",
    "    \n",
    "\n",
    "'''\n",
    "a = {1,2,3,4,5,1,4};# not repeat same element \n",
    "print(type(a));\n",
    "print(a)\n",
    "\n",
    "#  empty set\n",
    "b = set()\n",
    "print(\"The set b is :\",type(b));\n",
    "# add an element into  a set\n",
    "\n",
    "b.add(56);\n",
    "b.add(32);\n",
    "\n",
    "b.add((2,6,4))# add tuple in the set\n",
    "# b.add({})\n",
    "print(b);\n",
    "print(len(b));# print len of the set ;\n",
    "# remove set \n",
    "b.remove(32);\n",
    "print(b);\n",
    "\n",
    "\n",
    "\n"
   ]
  },
  {
   "cell_type": "code",
   "execution_count": null,
   "id": "f1e8e79a",
   "metadata": {},
   "outputs": [],
   "source": []
  }
 ],
 "metadata": {
  "kernelspec": {
   "display_name": "Python 3 (ipykernel)",
   "language": "python",
   "name": "python3"
  },
  "language_info": {
   "codemirror_mode": {
    "name": "ipython",
    "version": 3
   },
   "file_extension": ".py",
   "mimetype": "text/x-python",
   "name": "python",
   "nbconvert_exporter": "python",
   "pygments_lexer": "ipython3",
   "version": "3.11.5"
  }
 },
 "nbformat": 4,
 "nbformat_minor": 5
}
